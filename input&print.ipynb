{
  "nbformat": 4,
  "nbformat_minor": 0,
  "metadata": {
    "colab": {
      "name": "input&print",
      "provenance": [],
      "include_colab_link": true
    },
    "kernelspec": {
      "name": "python3",
      "display_name": "Python 3"
    }
  },
  "cells": [
    {
      "cell_type": "markdown",
      "metadata": {
        "id": "view-in-github",
        "colab_type": "text"
      },
      "source": [
        "<a href=\"https://colab.research.google.com/github/hongyeon-kyeong/CodeUp-Basic100/blob/main/input%26print.ipynb\" target=\"_parent\"><img src=\"https://colab.research.google.com/assets/colab-badge.svg\" alt=\"Open In Colab\"/></a>"
      ]
    },
    {
      "cell_type": "code",
      "metadata": {
        "id": "Ra6mCwjO3RfL",
        "outputId": "b96b6b7a-ddef-4b2c-eff4-d7423c4ea1fe",
        "colab": {
          "base_uri": "https://localhost:8080/"
        }
      },
      "source": [
        "# 1.\n",
        "print('Hello')"
      ],
      "execution_count": null,
      "outputs": [
        {
          "output_type": "stream",
          "text": [
            "Hello\n"
          ],
          "name": "stdout"
        }
      ]
    },
    {
      "cell_type": "code",
      "metadata": {
        "id": "3zXpe6Gn3elD",
        "outputId": "1861dcd6-7f8f-491f-c7d5-3acdbaf76ea1",
        "colab": {
          "base_uri": "https://localhost:8080/"
        }
      },
      "source": [
        "# 2.\n",
        "print('Hello World')"
      ],
      "execution_count": null,
      "outputs": [
        {
          "output_type": "stream",
          "text": [
            "Hello World\n"
          ],
          "name": "stdout"
        }
      ]
    },
    {
      "cell_type": "code",
      "metadata": {
        "id": "j73ALwUR3zTW",
        "outputId": "219e2450-0e39-4e37-feaa-962c1d74db66",
        "colab": {
          "base_uri": "https://localhost:8080/"
        }
      },
      "source": [
        "#3.\n",
        "print('Hello\\nWorld')"
      ],
      "execution_count": null,
      "outputs": [
        {
          "output_type": "stream",
          "text": [
            "Hello\n",
            "World\n"
          ],
          "name": "stdout"
        }
      ]
    },
    {
      "cell_type": "code",
      "metadata": {
        "id": "T85HlTjh4MYQ",
        "outputId": "394fbc8f-ad4b-44c9-ff17-ab3fe92b9bcd",
        "colab": {
          "base_uri": "https://localhost:8080/"
        }
      },
      "source": [
        "#4.\n",
        "print('\\'Hello\\'')"
      ],
      "execution_count": null,
      "outputs": [
        {
          "output_type": "stream",
          "text": [
            "'Hello'\n"
          ],
          "name": "stdout"
        }
      ]
    },
    {
      "cell_type": "code",
      "metadata": {
        "id": "gd3KFbC44hgT",
        "outputId": "cd3ce3d2-2c51-404f-fd46-0aacb13ddefa",
        "colab": {
          "base_uri": "https://localhost:8080/"
        }
      },
      "source": [
        "#5.\n",
        "print('\"Hello World\"')"
      ],
      "execution_count": null,
      "outputs": [
        {
          "output_type": "stream",
          "text": [
            "\"Hello World\"\n"
          ],
          "name": "stdout"
        }
      ]
    },
    {
      "cell_type": "code",
      "metadata": {
        "id": "eBWZ7WFf4uTz",
        "outputId": "37cbe322-4108-482f-85b3-0c2ec86c8628",
        "colab": {
          "base_uri": "https://localhost:8080/"
        }
      },
      "source": [
        "#6.\n",
        "print('\"!@#$%^&*()\"')"
      ],
      "execution_count": null,
      "outputs": [
        {
          "output_type": "stream",
          "text": [
            "\"!@#$%^&*()\"\n"
          ],
          "name": "stdout"
        }
      ]
    },
    {
      "cell_type": "code",
      "metadata": {
        "id": "NKvmZ4O-5N53",
        "outputId": "9cd4c6ed-7a55-4185-aefa-d2322ad8ca3c",
        "colab": {
          "base_uri": "https://localhost:8080/"
        }
      },
      "source": [
        "#7.\n",
        "print('\"C:\\Download\\hello.cpp\"')"
      ],
      "execution_count": null,
      "outputs": [
        {
          "output_type": "stream",
          "text": [
            "\"C:\\Download\\hello.cpp\"\n"
          ],
          "name": "stdout"
        }
      ]
    },
    {
      "cell_type": "code",
      "metadata": {
        "id": "8wfP3wZb5rdT",
        "outputId": "4fdc56f3-fbe0-4ded-f73d-86dc0bef4927",
        "colab": {
          "base_uri": "https://localhost:8080/"
        }
      },
      "source": [
        "#8.\n",
        "print('\\u250C\\u252C\\u2510\\n\\u251C\\u253C\\u2524\\n\\u2514\\u2534\\u2518')"
      ],
      "execution_count": null,
      "outputs": [
        {
          "output_type": "stream",
          "text": [
            "┌┬┐\n",
            "├┼┤\n",
            "└┴┘\n"
          ],
          "name": "stdout"
        }
      ]
    },
    {
      "cell_type": "code",
      "metadata": {
        "id": "jlsoAj3v6iFn",
        "outputId": "257f9c2c-f9ad-487c-92a7-af260eca0125",
        "colab": {
          "base_uri": "https://localhost:8080/"
        }
      },
      "source": [
        "#9.\n",
        "n = input()\n",
        "print(n)"
      ],
      "execution_count": null,
      "outputs": [
        {
          "output_type": "stream",
          "text": [
            "5\n",
            "5\n"
          ],
          "name": "stdout"
        }
      ]
    },
    {
      "cell_type": "code",
      "metadata": {
        "id": "wx7CTh-77tH1",
        "outputId": "55ca39c3-9532-4c4b-fc47-3a17cd4320f8",
        "colab": {
          "base_uri": "https://localhost:8080/"
        }
      },
      "source": [
        "#10.\n",
        "n = input()\n",
        "print(n)"
      ],
      "execution_count": null,
      "outputs": [
        {
          "output_type": "stream",
          "text": [
            "p\n",
            "p\n"
          ],
          "name": "stdout"
        }
      ]
    },
    {
      "cell_type": "code",
      "metadata": {
        "id": "_0uj3qsu8a9N",
        "outputId": "c9a52274-a202-49a9-eec1-813d0b839db6",
        "colab": {
          "base_uri": "https://localhost:8080/",
          "height": 222
        }
      },
      "source": [
        "#11.\n",
        "n = input()\n",
        "print(\"%f\" % n)"
      ],
      "execution_count": null,
      "outputs": [
        {
          "output_type": "stream",
          "text": [
            "10\n"
          ],
          "name": "stdout"
        },
        {
          "output_type": "error",
          "ename": "TypeError",
          "evalue": "ignored",
          "traceback": [
            "\u001b[0;31m---------------------------------------------------------------------------\u001b[0m",
            "\u001b[0;31mTypeError\u001b[0m                                 Traceback (most recent call last)",
            "\u001b[0;32m<ipython-input-41-ed5a18cbf51e>\u001b[0m in \u001b[0;36m<module>\u001b[0;34m()\u001b[0m\n\u001b[1;32m      1\u001b[0m \u001b[0;31m#11.\u001b[0m\u001b[0;34m\u001b[0m\u001b[0;34m\u001b[0m\u001b[0;34m\u001b[0m\u001b[0m\n\u001b[1;32m      2\u001b[0m \u001b[0mn\u001b[0m \u001b[0;34m=\u001b[0m \u001b[0minput\u001b[0m\u001b[0;34m(\u001b[0m\u001b[0;34m)\u001b[0m\u001b[0;34m\u001b[0m\u001b[0;34m\u001b[0m\u001b[0m\n\u001b[0;32m----> 3\u001b[0;31m \u001b[0mprint\u001b[0m\u001b[0;34m(\u001b[0m\u001b[0;34m\"%f\"\u001b[0m \u001b[0;34m%\u001b[0m \u001b[0mn\u001b[0m\u001b[0;34m)\u001b[0m\u001b[0;34m\u001b[0m\u001b[0;34m\u001b[0m\u001b[0m\n\u001b[0m",
            "\u001b[0;31mTypeError\u001b[0m: must be real number, not str"
          ]
        }
      ]
    },
    {
      "cell_type": "code",
      "metadata": {
        "id": "JEL4-4kZbfse",
        "outputId": "e5d45a63-64ee-4dfc-c6ef-5e02f2abdf53",
        "colab": {
          "base_uri": "https://localhost:8080/"
        }
      },
      "source": [
        "a, b = map(int,input().split())\n",
        "print(\"%d %d\" % (a,b) )"
      ],
      "execution_count": null,
      "outputs": [
        {
          "output_type": "stream",
          "text": [
            "1 2\n",
            "1 2\n"
          ],
          "name": "stdout"
        }
      ]
    },
    {
      "cell_type": "code",
      "metadata": {
        "id": "NSQa0ndWbz36",
        "outputId": "48b33d0e-b4e3-4815-972b-50ebdf51c782",
        "colab": {
          "base_uri": "https://localhost:8080/"
        }
      },
      "source": [
        "x, y = input().split()\n",
        "print(y, x)"
      ],
      "execution_count": null,
      "outputs": [
        {
          "output_type": "stream",
          "text": [
            "A b\n",
            "b A\n"
          ],
          "name": "stdout"
        }
      ]
    },
    {
      "cell_type": "code",
      "metadata": {
        "id": "G-_DrmFJcgS0",
        "outputId": "5333283e-b70d-4955-e154-26de90781ea1",
        "colab": {
          "base_uri": "https://localhost:8080/"
        }
      },
      "source": [
        "a = float(input())\n",
        "print(\"%0.2f\" %)"
      ],
      "execution_count": null,
      "outputs": [
        {
          "output_type": "stream",
          "text": [
            "1.59254\n",
            "1.59\n"
          ],
          "name": "stdout"
        }
      ]
    },
    {
      "cell_type": "code",
      "metadata": {
        "id": "Gfg2hnCNcwqi",
        "outputId": "4b442907-b7e2-4f1d-e82e-13f1f902dbf8",
        "colab": {
          "base_uri": "https://localhost:8080/"
        }
      },
      "source": [
        "a = int(input())\n",
        "print(\"%d %d %d\" % (a, a, a))"
      ],
      "execution_count": null,
      "outputs": [
        {
          "output_type": "stream",
          "text": [
            "125\n",
            "125 125 125\n"
          ],
          "name": "stdout"
        }
      ]
    },
    {
      "cell_type": "code",
      "metadata": {
        "id": "9mkGbjcadTYK",
        "outputId": "ff6107f6-4dce-4df7-f382-196e1cdc6c5a",
        "colab": {
          "base_uri": "https://localhost:8080/"
        }
      },
      "source": [
        "#1018\n",
        "a, b = input().split(':')\n",
        "print(a + \":\" +b)"
      ],
      "execution_count": null,
      "outputs": [
        {
          "output_type": "stream",
          "text": [
            "10:25\n",
            "10:25\n"
          ],
          "name": "stdout"
        }
      ]
    },
    {
      "cell_type": "code",
      "metadata": {
        "id": "ZD6KguYMeo70",
        "outputId": "b27228b1-fe20-45e2-b18f-ef3ee844d0ce",
        "colab": {
          "base_uri": "https://localhost:8080/"
        }
      },
      "source": [
        "#1019\n",
        "#(1) \n",
        "a, b, c = map(int,input().split('.'))\n",
        "print('{0:04d}.{1:02d}.{2:02d}'.format(a,b,c))\n",
        "\n",
        "#(2)\n",
        "a, b, c = map(int,input().split('.'))\n",
        "print('%04d.%02d.%02d' % (a,b,c))"
      ],
      "execution_count": null,
      "outputs": [
        {
          "output_type": "stream",
          "text": [
            "2020.8.15\n",
            "2020.08.15\n",
            "2020.7.11\n",
            "2020.07.11\n"
          ],
          "name": "stdout"
        }
      ]
    },
    {
      "cell_type": "code",
      "metadata": {
        "id": "vSFivdsVfs6Q",
        "outputId": "dee7c7cb-95e2-4851-d349-f27ba40afb2d",
        "colab": {
          "base_uri": "https://localhost:8080/"
        }
      },
      "source": [
        "#1020\n",
        "a, b = input().split('-')\n",
        "print(a+b)"
      ],
      "execution_count": null,
      "outputs": [
        {
          "output_type": "stream",
          "text": [
            "961021-2247218\n",
            "9610212247218\n"
          ],
          "name": "stdout"
        }
      ]
    },
    {
      "cell_type": "code",
      "metadata": {
        "id": "KhqrZpU5ikUt",
        "outputId": "56239a6a-f515-4abf-ebc0-bbeb4bb38eec",
        "colab": {
          "base_uri": "https://localhost:8080/"
        }
      },
      "source": [
        "#1021\n",
        "a = input()\n",
        "print(a)"
      ],
      "execution_count": null,
      "outputs": [
        {
          "output_type": "stream",
          "text": [
            "Informatics\n",
            "Informatics\n"
          ],
          "name": "stdout"
        }
      ]
    },
    {
      "cell_type": "code",
      "metadata": {
        "id": "U1-SIj8yi6LP",
        "outputId": "cca045ff-360f-4d10-d819-b774e05fbc3c",
        "colab": {
          "base_uri": "https://localhost:8080/"
        }
      },
      "source": [
        "#1022\n",
        "a = input()\n",
        "print(a)"
      ],
      "execution_count": null,
      "outputs": [
        {
          "output_type": "stream",
          "text": [
            "Programming is very fun!!\n",
            "Programming is very fun!!\n"
          ],
          "name": "stdout"
        }
      ]
    },
    {
      "cell_type": "code",
      "metadata": {
        "id": "fCCBtUHEjNhY",
        "outputId": "baf1947c-5ce6-4b3d-b7ad-f1390c699ecc",
        "colab": {
          "base_uri": "https://localhost:8080/"
        }
      },
      "source": [
        "#1023\n",
        "#a = float(input())\n",
        "#print('%0.0f\\n' % a)\n",
        "\n",
        "a, b = map(float,input().split('.'))\n",
        "print('%0.0f\\n%0.0f' % (a,b))"
      ],
      "execution_count": null,
      "outputs": [
        {
          "output_type": "stream",
          "text": [
            "1.1564231\n",
            "1\n",
            "1564231\n"
          ],
          "name": "stdout"
        }
      ]
    },
    {
      "cell_type": "code",
      "metadata": {
        "id": "trksyUo0kJt3",
        "outputId": "d9b1c869-6342-4432-cfdb-93b419c16753",
        "colab": {
          "base_uri": "https://localhost:8080/"
        }
      },
      "source": [
        "#1024\n",
        "a = input()\n",
        "for i in a :\n",
        "  print('\\''+i+'\\'')"
      ],
      "execution_count": null,
      "outputs": [
        {
          "output_type": "stream",
          "text": [
            "Boy\n",
            "'B'\n",
            "'o'\n",
            "'y'\n"
          ],
          "name": "stdout"
        }
      ]
    },
    {
      "cell_type": "code",
      "metadata": {
        "id": "U5j-VlLMl85R",
        "outputId": "9ee9ef70-cabd-40e0-e64a-324f5a45af79",
        "colab": {
          "base_uri": "https://localhost:8080/"
        }
      },
      "source": [
        "#1025\n",
        "a = input()\n",
        "i = 4\n",
        "for value in a :\n",
        "  print('[%d]' % (int(value)*10**i))\n",
        "  i = i-1"
      ],
      "execution_count": null,
      "outputs": [
        {
          "output_type": "stream",
          "text": [
            "75254\n",
            "[700000]\n",
            "[50000]\n",
            "[2000]\n",
            "[500]\n",
            "[40]\n"
          ],
          "name": "stdout"
        }
      ]
    },
    {
      "cell_type": "code",
      "metadata": {
        "id": "BDfb81XRuDiM"
      },
      "source": [
        ""
      ],
      "execution_count": null,
      "outputs": []
    }
  ]
}